{
  "nbformat": 4,
  "nbformat_minor": 0,
  "metadata": {
    "colab": {
      "name": "classification_on_imbalance_data.ipynb",
      "provenance": [],
      "collapsed_sections": [],
      "machine_shape": "hm",
      "authorship_tag": "ABX9TyMrGZdLJEqle6xN99ensF6P",
      "include_colab_link": true
    },
    "kernelspec": {
      "name": "python3",
      "display_name": "Python 3"
    }
  },
  "cells": [
    {
      "cell_type": "markdown",
      "metadata": {
        "id": "view-in-github",
        "colab_type": "text"
      },
      "source": [
        "<a href=\"https://colab.research.google.com/github/dwdb/tensorflow2.0-tutorial/blob/master/classification_on_imbalance_data.ipynb\" target=\"_parent\"><img src=\"https://colab.research.google.com/assets/colab-badge.svg\" alt=\"Open In Colab\"/></a>"
      ]
    },
    {
      "cell_type": "code",
      "metadata": {
        "id": "a2TKCctvlus2",
        "colab_type": "code",
        "colab": {
          "base_uri": "https://localhost:8080/",
          "height": 51
        },
        "outputId": "3ee7b06e-ecc8-469f-fe1d-fc598fc30f8e"
      },
      "source": [
        "import os\n",
        "import tempfile\n",
        "\n",
        "import matplotlib as mpl\n",
        "import matplotlib.pyplot as plt\n",
        "import numpy as np\n",
        "import pandas as pd\n",
        "import seaborn as sns\n",
        "import sklearn\n",
        "from sklearn.metrics import confusion_matrix\n",
        "from sklearn.model_selection import train_test_split\n",
        "from sklearn.preprocessing import StandardScaler\n",
        "import tensorflow as tf\n",
        "from tensorflow import keras\n",
        "\n",
        "# mpl.rcParams['figure.figsize'] = (15, 10)\n",
        "colors = plt.rcParams['axes.prop_cycle'].by_key()['color']"
      ],
      "execution_count": 1,
      "outputs": [
        {
          "output_type": "stream",
          "text": [
            "/usr/local/lib/python3.6/dist-packages/statsmodels/tools/_testing.py:19: FutureWarning: pandas.util.testing is deprecated. Use the functions in the public API at pandas.testing instead.\n",
            "  import pandas.util.testing as tm\n"
          ],
          "name": "stderr"
        }
      ]
    },
    {
      "cell_type": "code",
      "metadata": {
        "id": "5Mi_q0ndnXBQ",
        "colab_type": "code",
        "colab": {
          "base_uri": "https://localhost:8080/",
          "height": 85
        },
        "outputId": "2f32673a-69e2-4a24-bdda-ceea2f4a09a9"
      },
      "source": [
        "# dataset processing\n",
        "df = pd.read_csv('https://storage.googleapis.com/download.tensorflow.org/data/creditcard.csv')\n",
        "\n",
        "# You don't want the `Time` column.\n",
        "df.pop('Time')\n",
        "\n",
        "# The `Amount` column covers a huge range. Convert to log-space.\n",
        "eps = 0.001 # 0 => 0.1¢\n",
        "df['Amount'] = np.log(df.pop('Amount') + eps)\n",
        "\n",
        "(neg, pos), total = np.bincount(df['Class']), df.shape[0]\n",
        "print('Examples:\\n    Total: {}\\n    Positive: {} ({:.2f}% of total)\\n'.format(total, pos, 100 * pos / total))\n",
        "\n",
        "y = df.pop('Class').values\n",
        "x = df.values\n",
        "train_x, test_x, train_y, test_y = train_test_split(x, y, test_size=0.2)\n",
        "\n",
        "# standard normalization\n",
        "scaler = StandardScaler()\n",
        "train_x = np.clip(scaler.fit_transform(train_x), -5, 5)\n",
        "test_x = np.clip(scaler.transform(test_x), -5, 5)"
      ],
      "execution_count": 2,
      "outputs": [
        {
          "output_type": "stream",
          "text": [
            "Examples:\n",
            "    Total: 284807\n",
            "    Positive: 492 (0.17% of total)\n",
            "\n"
          ],
          "name": "stdout"
        }
      ]
    },
    {
      "cell_type": "code",
      "metadata": {
        "id": "W51jE1YGnjYX",
        "colab_type": "code",
        "colab": {}
      },
      "source": [
        "metrics = [\n",
        "    keras.metrics.TruePositives(name='tp'),\n",
        "    keras.metrics.FalsePositives(name='fp'),\n",
        "    keras.metrics.TrueNegatives(name='tn'),\n",
        "    keras.metrics.FalseNegatives(name='fn'),\n",
        "    keras.metrics.BinaryAccuracy(name='accuracy'),\n",
        "    keras.metrics.Precision(name='precision'),\n",
        "    keras.metrics.Recall(name='recall'),\n",
        "    keras.metrics.AUC(name='auc')\n",
        "]\n",
        "\n",
        "BATCH_SIZE = 2048\n",
        "BUFFER_SIZE = 100000\n",
        "EPOCHS = 20\n",
        "\n",
        "model = keras.Sequential([\n",
        "    keras.layers.Dense(16, activation='relu', input_shape=(train_x.shape[-1], )),\n",
        "    keras.layers.Dropout(0.5),\n",
        "    keras.layers.Dense(1, activation='sigmoid')\n",
        "])\n",
        "\n",
        "early_stopping = tf.keras.callbacks.EarlyStopping(\n",
        "    monitor='val_auc', \n",
        "    verbose=1,\n",
        "    patience=10,\n",
        "    mode='max',\n",
        "    restore_best_weights=True\n",
        ")\n",
        "\n",
        "model.compile(\n",
        "    optimizer=keras.optimizers.Adam(lr=1e-3),\n",
        "    loss=keras.losses.BinaryCrossentropy(),\n",
        "    metrics=metrics\n",
        ")\n",
        "\n",
        "initial_weights = model.get_weights()"
      ],
      "execution_count": 0,
      "outputs": []
    },
    {
      "cell_type": "code",
      "metadata": {
        "id": "2TI221TAppze",
        "colab_type": "code",
        "colab": {
          "base_uri": "https://localhost:8080/",
          "height": 734
        },
        "outputId": "4ce38475-fe05-44aa-e7ef-a5e51afbb977"
      },
      "source": [
        "print('Training Zero Bias Model')\n",
        "model.set_weights(initial_weights)\n",
        "model.layers[-1].bias.assign([0.0])\n",
        "zero_bias_history = model.fit(\n",
        "    train_x, \n",
        "    train_y, \n",
        "    batch_size=BATCH_SIZE, \n",
        "    epochs=EPOCHS, \n",
        "    validation_data=(test_x, test_y), \n",
        "    verbose=1,\n",
        "    callbacks=[early_stopping],\n",
        ")\n",
        "zero_preditions = model.predict(test_x, batch_size=2048)"
      ],
      "execution_count": 4,
      "outputs": [
        {
          "output_type": "stream",
          "text": [
            "Training Zero Bias Model\n",
            "Epoch 1/20\n",
            "112/112 [==============================] - 2s 14ms/step - loss: 0.3740 - tp: 101.0000 - fp: 34812.0000 - tn: 192644.0000 - fn: 288.0000 - accuracy: 0.8459 - precision: 0.0029 - recall: 0.2596 - auc: 0.4523 - val_loss: 0.1339 - val_tp: 14.0000 - val_fp: 7.0000 - val_tn: 56852.0000 - val_fn: 89.0000 - val_accuracy: 0.9983 - val_precision: 0.6667 - val_recall: 0.1359 - val_auc: 0.4574\n",
            "Epoch 2/20\n",
            "112/112 [==============================] - 1s 8ms/step - loss: 0.1652 - tp: 104.0000 - fp: 7082.0000 - tn: 220374.0000 - fn: 285.0000 - accuracy: 0.9677 - precision: 0.0145 - recall: 0.2674 - auc: 0.5701 - val_loss: 0.0503 - val_tp: 20.0000 - val_fp: 5.0000 - val_tn: 56854.0000 - val_fn: 83.0000 - val_accuracy: 0.9985 - val_precision: 0.8000 - val_recall: 0.1942 - val_auc: 0.7203\n",
            "Epoch 3/20\n",
            "112/112 [==============================] - 1s 8ms/step - loss: 0.1011 - tp: 125.0000 - fp: 2458.0000 - tn: 224998.0000 - fn: 264.0000 - accuracy: 0.9881 - precision: 0.0484 - recall: 0.3213 - auc: 0.7109 - val_loss: 0.0242 - val_tp: 35.0000 - val_fp: 9.0000 - val_tn: 56850.0000 - val_fn: 68.0000 - val_accuracy: 0.9986 - val_precision: 0.7955 - val_recall: 0.3398 - val_auc: 0.8344\n",
            "Epoch 4/20\n",
            "112/112 [==============================] - 1s 7ms/step - loss: 0.0729 - tp: 153.0000 - fp: 1044.0000 - tn: 226412.0000 - fn: 236.0000 - accuracy: 0.9944 - precision: 0.1278 - recall: 0.3933 - auc: 0.8008 - val_loss: 0.0142 - val_tp: 41.0000 - val_fp: 10.0000 - val_tn: 56849.0000 - val_fn: 62.0000 - val_accuracy: 0.9987 - val_precision: 0.8039 - val_recall: 0.3981 - val_auc: 0.8666\n",
            "Epoch 5/20\n",
            "112/112 [==============================] - 1s 7ms/step - loss: 0.0572 - tp: 178.0000 - fp: 384.0000 - tn: 227072.0000 - fn: 211.0000 - accuracy: 0.9974 - precision: 0.3167 - recall: 0.4576 - auc: 0.8285 - val_loss: 0.0095 - val_tp: 50.0000 - val_fp: 10.0000 - val_tn: 56849.0000 - val_fn: 53.0000 - val_accuracy: 0.9989 - val_precision: 0.8333 - val_recall: 0.4854 - val_auc: 0.8850\n",
            "Epoch 6/20\n",
            "112/112 [==============================] - 1s 7ms/step - loss: 0.0475 - tp: 188.0000 - fp: 178.0000 - tn: 227278.0000 - fn: 201.0000 - accuracy: 0.9983 - precision: 0.5137 - recall: 0.4833 - auc: 0.8454 - val_loss: 0.0071 - val_tp: 56.0000 - val_fp: 11.0000 - val_tn: 56848.0000 - val_fn: 47.0000 - val_accuracy: 0.9990 - val_precision: 0.8358 - val_recall: 0.5437 - val_auc: 0.8985\n",
            "Epoch 7/20\n",
            "112/112 [==============================] - 1s 7ms/step - loss: 0.0405 - tp: 207.0000 - fp: 75.0000 - tn: 227381.0000 - fn: 182.0000 - accuracy: 0.9989 - precision: 0.7340 - recall: 0.5321 - auc: 0.8714 - val_loss: 0.0058 - val_tp: 65.0000 - val_fp: 12.0000 - val_tn: 56847.0000 - val_fn: 38.0000 - val_accuracy: 0.9991 - val_precision: 0.8442 - val_recall: 0.6311 - val_auc: 0.9087\n",
            "Epoch 8/20\n",
            "112/112 [==============================] - 1s 7ms/step - loss: 0.0355 - tp: 219.0000 - fp: 51.0000 - tn: 227405.0000 - fn: 170.0000 - accuracy: 0.9990 - precision: 0.8111 - recall: 0.5630 - auc: 0.8765 - val_loss: 0.0050 - val_tp: 70.0000 - val_fp: 14.0000 - val_tn: 56845.0000 - val_fn: 33.0000 - val_accuracy: 0.9992 - val_precision: 0.8333 - val_recall: 0.6796 - val_auc: 0.9086\n",
            "Epoch 9/20\n",
            "112/112 [==============================] - 1s 7ms/step - loss: 0.0315 - tp: 213.0000 - fp: 44.0000 - tn: 227412.0000 - fn: 176.0000 - accuracy: 0.9990 - precision: 0.8288 - recall: 0.5476 - auc: 0.8820 - val_loss: 0.0046 - val_tp: 72.0000 - val_fp: 14.0000 - val_tn: 56845.0000 - val_fn: 31.0000 - val_accuracy: 0.9992 - val_precision: 0.8372 - val_recall: 0.6990 - val_auc: 0.9155\n",
            "Epoch 10/20\n",
            "112/112 [==============================] - 1s 7ms/step - loss: 0.0280 - tp: 226.0000 - fp: 42.0000 - tn: 227414.0000 - fn: 163.0000 - accuracy: 0.9991 - precision: 0.8433 - recall: 0.5810 - auc: 0.8952 - val_loss: 0.0043 - val_tp: 76.0000 - val_fp: 14.0000 - val_tn: 56845.0000 - val_fn: 27.0000 - val_accuracy: 0.9993 - val_precision: 0.8444 - val_recall: 0.7379 - val_auc: 0.9164\n",
            "Epoch 11/20\n",
            "112/112 [==============================] - 1s 7ms/step - loss: 0.0258 - tp: 240.0000 - fp: 35.0000 - tn: 227421.0000 - fn: 149.0000 - accuracy: 0.9992 - precision: 0.8727 - recall: 0.6170 - auc: 0.8865 - val_loss: 0.0041 - val_tp: 77.0000 - val_fp: 14.0000 - val_tn: 56845.0000 - val_fn: 26.0000 - val_accuracy: 0.9993 - val_precision: 0.8462 - val_recall: 0.7476 - val_auc: 0.9168\n",
            "Epoch 12/20\n",
            "112/112 [==============================] - 1s 7ms/step - loss: 0.0230 - tp: 245.0000 - fp: 39.0000 - tn: 227417.0000 - fn: 144.0000 - accuracy: 0.9992 - precision: 0.8627 - recall: 0.6298 - auc: 0.8966 - val_loss: 0.0039 - val_tp: 78.0000 - val_fp: 14.0000 - val_tn: 56845.0000 - val_fn: 25.0000 - val_accuracy: 0.9993 - val_precision: 0.8478 - val_recall: 0.7573 - val_auc: 0.9170\n",
            "Epoch 13/20\n",
            "112/112 [==============================] - 1s 7ms/step - loss: 0.0212 - tp: 237.0000 - fp: 35.0000 - tn: 227421.0000 - fn: 152.0000 - accuracy: 0.9992 - precision: 0.8713 - recall: 0.6093 - auc: 0.8980 - val_loss: 0.0038 - val_tp: 79.0000 - val_fp: 14.0000 - val_tn: 56845.0000 - val_fn: 24.0000 - val_accuracy: 0.9993 - val_precision: 0.8495 - val_recall: 0.7670 - val_auc: 0.9171\n",
            "Epoch 14/20\n",
            "112/112 [==============================] - 1s 7ms/step - loss: 0.0194 - tp: 235.0000 - fp: 43.0000 - tn: 227413.0000 - fn: 154.0000 - accuracy: 0.9991 - precision: 0.8453 - recall: 0.6041 - auc: 0.8970 - val_loss: 0.0037 - val_tp: 80.0000 - val_fp: 14.0000 - val_tn: 56845.0000 - val_fn: 23.0000 - val_accuracy: 0.9994 - val_precision: 0.8511 - val_recall: 0.7767 - val_auc: 0.9172\n",
            "Epoch 15/20\n",
            "112/112 [==============================] - 1s 8ms/step - loss: 0.0178 - tp: 257.0000 - fp: 47.0000 - tn: 227409.0000 - fn: 132.0000 - accuracy: 0.9992 - precision: 0.8454 - recall: 0.6607 - auc: 0.9046 - val_loss: 0.0037 - val_tp: 80.0000 - val_fp: 14.0000 - val_tn: 56845.0000 - val_fn: 23.0000 - val_accuracy: 0.9994 - val_precision: 0.8511 - val_recall: 0.7767 - val_auc: 0.9221\n",
            "Epoch 16/20\n",
            "112/112 [==============================] - 1s 8ms/step - loss: 0.0166 - tp: 246.0000 - fp: 43.0000 - tn: 227413.0000 - fn: 143.0000 - accuracy: 0.9992 - precision: 0.8512 - recall: 0.6324 - auc: 0.9034 - val_loss: 0.0036 - val_tp: 80.0000 - val_fp: 14.0000 - val_tn: 56845.0000 - val_fn: 23.0000 - val_accuracy: 0.9994 - val_precision: 0.8511 - val_recall: 0.7767 - val_auc: 0.9270\n",
            "Epoch 17/20\n",
            "112/112 [==============================] - 1s 7ms/step - loss: 0.0155 - tp: 249.0000 - fp: 42.0000 - tn: 227414.0000 - fn: 140.0000 - accuracy: 0.9992 - precision: 0.8557 - recall: 0.6401 - auc: 0.9079 - val_loss: 0.0035 - val_tp: 82.0000 - val_fp: 15.0000 - val_tn: 56844.0000 - val_fn: 21.0000 - val_accuracy: 0.9994 - val_precision: 0.8454 - val_recall: 0.7961 - val_auc: 0.9318\n",
            "Epoch 18/20\n",
            "112/112 [==============================] - 1s 7ms/step - loss: 0.0148 - tp: 245.0000 - fp: 43.0000 - tn: 227413.0000 - fn: 144.0000 - accuracy: 0.9992 - precision: 0.8507 - recall: 0.6298 - auc: 0.9079 - val_loss: 0.0035 - val_tp: 80.0000 - val_fp: 15.0000 - val_tn: 56844.0000 - val_fn: 23.0000 - val_accuracy: 0.9993 - val_precision: 0.8421 - val_recall: 0.7767 - val_auc: 0.9367\n",
            "Epoch 19/20\n",
            "112/112 [==============================] - 1s 8ms/step - loss: 0.0142 - tp: 255.0000 - fp: 42.0000 - tn: 227414.0000 - fn: 134.0000 - accuracy: 0.9992 - precision: 0.8586 - recall: 0.6555 - auc: 0.8999 - val_loss: 0.0034 - val_tp: 81.0000 - val_fp: 15.0000 - val_tn: 56844.0000 - val_fn: 22.0000 - val_accuracy: 0.9994 - val_precision: 0.8438 - val_recall: 0.7864 - val_auc: 0.9367\n",
            "Epoch 20/20\n",
            "112/112 [==============================] - 1s 7ms/step - loss: 0.0133 - tp: 271.0000 - fp: 44.0000 - tn: 227412.0000 - fn: 118.0000 - accuracy: 0.9993 - precision: 0.8603 - recall: 0.6967 - auc: 0.9195 - val_loss: 0.0034 - val_tp: 81.0000 - val_fp: 15.0000 - val_tn: 56844.0000 - val_fn: 22.0000 - val_accuracy: 0.9994 - val_precision: 0.8438 - val_recall: 0.7864 - val_auc: 0.9367\n"
          ],
          "name": "stdout"
        }
      ]
    },
    {
      "cell_type": "code",
      "metadata": {
        "id": "4YQt8IgVd388",
        "colab_type": "code",
        "colab": {
          "base_uri": "https://localhost:8080/",
          "height": 734
        },
        "outputId": "a8da97b9-87da-4e82-c63e-c3f966324911"
      },
      "source": [
        "print('Training Care Bias Model')\n",
        "model.set_weights(initial_weights)\n",
        "model.layers[-1].bias.assign([np.log(pos/neg, dtype=np.float32)])\n",
        "care_bias_history = model.fit(\n",
        "    train_x, \n",
        "    train_y, \n",
        "    batch_size=BATCH_SIZE, \n",
        "    epochs=EPOCHS, \n",
        "    validation_data=(test_x, test_y), \n",
        "    verbose=1,\n",
        "    callbacks=[early_stopping],\n",
        ")\n",
        "care_preditions = model.predict(test_x, batch_size=2048)"
      ],
      "execution_count": 5,
      "outputs": [
        {
          "output_type": "stream",
          "text": [
            "Training Care Bias Model\n",
            "Epoch 1/20\n",
            "112/112 [==============================] - 1s 8ms/step - loss: 0.0101 - tp: 93.0000 - fp: 26.0000 - tn: 227430.0000 - fn: 296.0000 - accuracy: 0.9986 - precision: 0.7815 - recall: 0.2391 - auc: 0.7613 - val_loss: 0.0055 - val_tp: 50.0000 - val_fp: 11.0000 - val_tn: 56848.0000 - val_fn: 53.0000 - val_accuracy: 0.9989 - val_precision: 0.8197 - val_recall: 0.4854 - val_auc: 0.9161\n",
            "Epoch 2/20\n",
            "112/112 [==============================] - 1s 7ms/step - loss: 0.0074 - tp: 151.0000 - fp: 30.0000 - tn: 227426.0000 - fn: 238.0000 - accuracy: 0.9988 - precision: 0.8343 - recall: 0.3882 - auc: 0.8645 - val_loss: 0.0048 - val_tp: 60.0000 - val_fp: 12.0000 - val_tn: 56847.0000 - val_fn: 43.0000 - val_accuracy: 0.9990 - val_precision: 0.8333 - val_recall: 0.5825 - val_auc: 0.9362\n",
            "Epoch 3/20\n",
            "112/112 [==============================] - 1s 8ms/step - loss: 0.0071 - tp: 177.0000 - fp: 31.0000 - tn: 227425.0000 - fn: 212.0000 - accuracy: 0.9989 - precision: 0.8510 - recall: 0.4550 - auc: 0.8565 - val_loss: 0.0044 - val_tp: 63.0000 - val_fp: 12.0000 - val_tn: 56847.0000 - val_fn: 40.0000 - val_accuracy: 0.9991 - val_precision: 0.8400 - val_recall: 0.6117 - val_auc: 0.9414\n",
            "Epoch 4/20\n",
            "112/112 [==============================] - 1s 8ms/step - loss: 0.0063 - tp: 189.0000 - fp: 25.0000 - tn: 227431.0000 - fn: 200.0000 - accuracy: 0.9990 - precision: 0.8832 - recall: 0.4859 - auc: 0.8694 - val_loss: 0.0042 - val_tp: 64.0000 - val_fp: 12.0000 - val_tn: 56847.0000 - val_fn: 39.0000 - val_accuracy: 0.9991 - val_precision: 0.8421 - val_recall: 0.6214 - val_auc: 0.9463\n",
            "Epoch 5/20\n",
            "112/112 [==============================] - 1s 8ms/step - loss: 0.0060 - tp: 198.0000 - fp: 32.0000 - tn: 227424.0000 - fn: 191.0000 - accuracy: 0.9990 - precision: 0.8609 - recall: 0.5090 - auc: 0.8847 - val_loss: 0.0041 - val_tp: 67.0000 - val_fp: 12.0000 - val_tn: 56847.0000 - val_fn: 36.0000 - val_accuracy: 0.9992 - val_precision: 0.8481 - val_recall: 0.6505 - val_auc: 0.9464\n",
            "Epoch 6/20\n",
            "112/112 [==============================] - 1s 8ms/step - loss: 0.0057 - tp: 199.0000 - fp: 33.0000 - tn: 227423.0000 - fn: 190.0000 - accuracy: 0.9990 - precision: 0.8578 - recall: 0.5116 - auc: 0.9013 - val_loss: 0.0039 - val_tp: 71.0000 - val_fp: 12.0000 - val_tn: 56847.0000 - val_fn: 32.0000 - val_accuracy: 0.9992 - val_precision: 0.8554 - val_recall: 0.6893 - val_auc: 0.9464\n",
            "Epoch 7/20\n",
            "112/112 [==============================] - 1s 9ms/step - loss: 0.0061 - tp: 195.0000 - fp: 33.0000 - tn: 227423.0000 - fn: 194.0000 - accuracy: 0.9990 - precision: 0.8553 - recall: 0.5013 - auc: 0.8767 - val_loss: 0.0038 - val_tp: 69.0000 - val_fp: 12.0000 - val_tn: 56847.0000 - val_fn: 34.0000 - val_accuracy: 0.9992 - val_precision: 0.8519 - val_recall: 0.6699 - val_auc: 0.9464\n",
            "Epoch 8/20\n",
            "112/112 [==============================] - 1s 8ms/step - loss: 0.0057 - tp: 195.0000 - fp: 31.0000 - tn: 227425.0000 - fn: 194.0000 - accuracy: 0.9990 - precision: 0.8628 - recall: 0.5013 - auc: 0.8851 - val_loss: 0.0037 - val_tp: 70.0000 - val_fp: 12.0000 - val_tn: 56847.0000 - val_fn: 33.0000 - val_accuracy: 0.9992 - val_precision: 0.8537 - val_recall: 0.6796 - val_auc: 0.9512\n",
            "Epoch 9/20\n",
            "112/112 [==============================] - 1s 8ms/step - loss: 0.0056 - tp: 194.0000 - fp: 29.0000 - tn: 227427.0000 - fn: 195.0000 - accuracy: 0.9990 - precision: 0.8700 - recall: 0.4987 - auc: 0.8931 - val_loss: 0.0036 - val_tp: 73.0000 - val_fp: 12.0000 - val_tn: 56847.0000 - val_fn: 30.0000 - val_accuracy: 0.9993 - val_precision: 0.8588 - val_recall: 0.7087 - val_auc: 0.9512\n",
            "Epoch 10/20\n",
            "112/112 [==============================] - 1s 8ms/step - loss: 0.0056 - tp: 193.0000 - fp: 33.0000 - tn: 227423.0000 - fn: 196.0000 - accuracy: 0.9990 - precision: 0.8540 - recall: 0.4961 - auc: 0.8959 - val_loss: 0.0035 - val_tp: 75.0000 - val_fp: 12.0000 - val_tn: 56847.0000 - val_fn: 28.0000 - val_accuracy: 0.9993 - val_precision: 0.8621 - val_recall: 0.7282 - val_auc: 0.9512\n",
            "Epoch 11/20\n",
            "112/112 [==============================] - 1s 7ms/step - loss: 0.0055 - tp: 191.0000 - fp: 32.0000 - tn: 227424.0000 - fn: 198.0000 - accuracy: 0.9990 - precision: 0.8565 - recall: 0.4910 - auc: 0.8947 - val_loss: 0.0035 - val_tp: 80.0000 - val_fp: 13.0000 - val_tn: 56846.0000 - val_fn: 23.0000 - val_accuracy: 0.9994 - val_precision: 0.8602 - val_recall: 0.7767 - val_auc: 0.9609\n",
            "Epoch 12/20\n",
            "112/112 [==============================] - 1s 7ms/step - loss: 0.0054 - tp: 215.0000 - fp: 38.0000 - tn: 227418.0000 - fn: 174.0000 - accuracy: 0.9991 - precision: 0.8498 - recall: 0.5527 - auc: 0.8922 - val_loss: 0.0034 - val_tp: 78.0000 - val_fp: 12.0000 - val_tn: 56847.0000 - val_fn: 25.0000 - val_accuracy: 0.9994 - val_precision: 0.8667 - val_recall: 0.7573 - val_auc: 0.9657\n",
            "Epoch 13/20\n",
            "112/112 [==============================] - 1s 7ms/step - loss: 0.0053 - tp: 211.0000 - fp: 37.0000 - tn: 227419.0000 - fn: 178.0000 - accuracy: 0.9991 - precision: 0.8508 - recall: 0.5424 - auc: 0.9053 - val_loss: 0.0034 - val_tp: 79.0000 - val_fp: 12.0000 - val_tn: 56847.0000 - val_fn: 24.0000 - val_accuracy: 0.9994 - val_precision: 0.8681 - val_recall: 0.7670 - val_auc: 0.9657\n",
            "Epoch 14/20\n",
            "112/112 [==============================] - 1s 7ms/step - loss: 0.0052 - tp: 217.0000 - fp: 34.0000 - tn: 227422.0000 - fn: 172.0000 - accuracy: 0.9991 - precision: 0.8645 - recall: 0.5578 - auc: 0.8962 - val_loss: 0.0033 - val_tp: 79.0000 - val_fp: 12.0000 - val_tn: 56847.0000 - val_fn: 24.0000 - val_accuracy: 0.9994 - val_precision: 0.8681 - val_recall: 0.7670 - val_auc: 0.9657\n",
            "Epoch 15/20\n",
            "112/112 [==============================] - 1s 7ms/step - loss: 0.0049 - tp: 208.0000 - fp: 34.0000 - tn: 227422.0000 - fn: 181.0000 - accuracy: 0.9991 - precision: 0.8595 - recall: 0.5347 - auc: 0.9069 - val_loss: 0.0033 - val_tp: 80.0000 - val_fp: 13.0000 - val_tn: 56846.0000 - val_fn: 23.0000 - val_accuracy: 0.9994 - val_precision: 0.8602 - val_recall: 0.7767 - val_auc: 0.9657\n",
            "Epoch 16/20\n",
            "112/112 [==============================] - 1s 8ms/step - loss: 0.0047 - tp: 233.0000 - fp: 32.0000 - tn: 227424.0000 - fn: 156.0000 - accuracy: 0.9992 - precision: 0.8792 - recall: 0.5990 - auc: 0.9185 - val_loss: 0.0032 - val_tp: 79.0000 - val_fp: 13.0000 - val_tn: 56846.0000 - val_fn: 24.0000 - val_accuracy: 0.9994 - val_precision: 0.8587 - val_recall: 0.7670 - val_auc: 0.9657\n",
            "Epoch 17/20\n",
            "112/112 [==============================] - 1s 7ms/step - loss: 0.0047 - tp: 223.0000 - fp: 35.0000 - tn: 227421.0000 - fn: 166.0000 - accuracy: 0.9991 - precision: 0.8643 - recall: 0.5733 - auc: 0.9133 - val_loss: 0.0032 - val_tp: 81.0000 - val_fp: 14.0000 - val_tn: 56845.0000 - val_fn: 22.0000 - val_accuracy: 0.9994 - val_precision: 0.8526 - val_recall: 0.7864 - val_auc: 0.9657\n",
            "Epoch 18/20\n",
            "112/112 [==============================] - 1s 8ms/step - loss: 0.0047 - tp: 230.0000 - fp: 34.0000 - tn: 227422.0000 - fn: 159.0000 - accuracy: 0.9992 - precision: 0.8712 - recall: 0.5913 - auc: 0.9174 - val_loss: 0.0031 - val_tp: 81.0000 - val_fp: 14.0000 - val_tn: 56845.0000 - val_fn: 22.0000 - val_accuracy: 0.9994 - val_precision: 0.8526 - val_recall: 0.7864 - val_auc: 0.9656\n",
            "Epoch 19/20\n",
            "112/112 [==============================] - 1s 8ms/step - loss: 0.0045 - tp: 228.0000 - fp: 32.0000 - tn: 227424.0000 - fn: 161.0000 - accuracy: 0.9992 - precision: 0.8769 - recall: 0.5861 - auc: 0.9226 - val_loss: 0.0031 - val_tp: 80.0000 - val_fp: 13.0000 - val_tn: 56846.0000 - val_fn: 23.0000 - val_accuracy: 0.9994 - val_precision: 0.8602 - val_recall: 0.7767 - val_auc: 0.9657\n",
            "Epoch 20/20\n",
            "112/112 [==============================] - 1s 7ms/step - loss: 0.0045 - tp: 228.0000 - fp: 31.0000 - tn: 227425.0000 - fn: 161.0000 - accuracy: 0.9992 - precision: 0.8803 - recall: 0.5861 - auc: 0.9252 - val_loss: 0.0030 - val_tp: 81.0000 - val_fp: 14.0000 - val_tn: 56845.0000 - val_fn: 22.0000 - val_accuracy: 0.9994 - val_precision: 0.8526 - val_recall: 0.7864 - val_auc: 0.9656\n"
          ],
          "name": "stdout"
        }
      ]
    },
    {
      "cell_type": "code",
      "metadata": {
        "id": "u5acbvjsd8fy",
        "colab_type": "code",
        "colab": {
          "base_uri": "https://localhost:8080/",
          "height": 734
        },
        "outputId": "a66028ee-cc77-4ca3-a818-c531f63629e4"
      },
      "source": [
        "print('Training Weighted Model')\n",
        "weight_for_0 = total / neg / 2.0\n",
        "weight_for_1 = total / pos / 2.0\n",
        "class_weight = {0: weight_for_0, 1: weight_for_1}\n",
        "\n",
        "model.set_weights(initial_weights)\n",
        "weighted_history = model.fit(\n",
        "    train_x, \n",
        "    train_y, \n",
        "    batch_size=BATCH_SIZE, \n",
        "    epochs=EPOCHS, \n",
        "    validation_data=(test_x, test_y), \n",
        "    verbose=1,\n",
        "    callbacks=[early_stopping],\n",
        "    class_weight=class_weight,\n",
        ")\n",
        "weighted_preditions = model.predict(test_x, batch_size=2048)"
      ],
      "execution_count": 6,
      "outputs": [
        {
          "output_type": "stream",
          "text": [
            "Training Weighted Model\n",
            "Epoch 1/20\n",
            "112/112 [==============================] - 1s 7ms/step - loss: 0.4451 - tp: 310.0000 - fp: 47670.0000 - tn: 179786.0000 - fn: 79.0000 - accuracy: 0.7904 - precision: 0.0065 - recall: 0.7969 - auc: 0.8688 - val_loss: 0.2731 - val_tp: 96.0000 - val_fp: 1853.0000 - val_tn: 55006.0000 - val_fn: 7.0000 - val_accuracy: 0.9673 - val_precision: 0.0493 - val_recall: 0.9320 - val_auc: 0.9746\n",
            "Epoch 2/20\n",
            "112/112 [==============================] - 1s 8ms/step - loss: 0.2695 - tp: 333.0000 - fp: 14991.0000 - tn: 212465.0000 - fn: 56.0000 - accuracy: 0.9340 - precision: 0.0217 - recall: 0.8560 - auc: 0.9450 - val_loss: 0.2093 - val_tp: 97.0000 - val_fp: 1364.0000 - val_tn: 55495.0000 - val_fn: 6.0000 - val_accuracy: 0.9759 - val_precision: 0.0664 - val_recall: 0.9417 - val_auc: 0.9800\n",
            "Epoch 3/20\n",
            "112/112 [==============================] - 1s 7ms/step - loss: 0.2543 - tp: 333.0000 - fp: 11460.0000 - tn: 215996.0000 - fn: 56.0000 - accuracy: 0.9495 - precision: 0.0282 - recall: 0.8560 - auc: 0.9484 - val_loss: 0.1845 - val_tp: 97.0000 - val_fp: 1236.0000 - val_tn: 55623.0000 - val_fn: 6.0000 - val_accuracy: 0.9782 - val_precision: 0.0728 - val_recall: 0.9417 - val_auc: 0.9818\n",
            "Epoch 4/20\n",
            "112/112 [==============================] - 1s 8ms/step - loss: 0.2410 - tp: 329.0000 - fp: 10281.0000 - tn: 217175.0000 - fn: 60.0000 - accuracy: 0.9546 - precision: 0.0310 - recall: 0.8458 - auc: 0.9549 - val_loss: 0.1680 - val_tp: 98.0000 - val_fp: 1253.0000 - val_tn: 55606.0000 - val_fn: 5.0000 - val_accuracy: 0.9779 - val_precision: 0.0725 - val_recall: 0.9515 - val_auc: 0.9829\n",
            "Epoch 5/20\n",
            "112/112 [==============================] - 1s 7ms/step - loss: 0.2163 - tp: 340.0000 - fp: 8622.0000 - tn: 218834.0000 - fn: 49.0000 - accuracy: 0.9619 - precision: 0.0379 - recall: 0.8740 - auc: 0.9632 - val_loss: 0.1554 - val_tp: 98.0000 - val_fp: 1251.0000 - val_tn: 55608.0000 - val_fn: 5.0000 - val_accuracy: 0.9780 - val_precision: 0.0726 - val_recall: 0.9515 - val_auc: 0.9839\n",
            "Epoch 6/20\n",
            "112/112 [==============================] - 1s 7ms/step - loss: 0.2028 - tp: 330.0000 - fp: 8320.0000 - tn: 219136.0000 - fn: 59.0000 - accuracy: 0.9632 - precision: 0.0382 - recall: 0.8483 - auc: 0.9728 - val_loss: 0.1446 - val_tp: 98.0000 - val_fp: 1242.0000 - val_tn: 55617.0000 - val_fn: 5.0000 - val_accuracy: 0.9781 - val_precision: 0.0731 - val_recall: 0.9515 - val_auc: 0.9839\n",
            "Epoch 7/20\n",
            "112/112 [==============================] - 1s 7ms/step - loss: 0.2095 - tp: 340.0000 - fp: 8399.0000 - tn: 219057.0000 - fn: 49.0000 - accuracy: 0.9629 - precision: 0.0389 - recall: 0.8740 - auc: 0.9658 - val_loss: 0.1387 - val_tp: 98.0000 - val_fp: 1268.0000 - val_tn: 55591.0000 - val_fn: 5.0000 - val_accuracy: 0.9777 - val_precision: 0.0717 - val_recall: 0.9515 - val_auc: 0.9842\n",
            "Epoch 8/20\n",
            "112/112 [==============================] - 1s 7ms/step - loss: 0.1842 - tp: 343.0000 - fp: 7411.0000 - tn: 220045.0000 - fn: 46.0000 - accuracy: 0.9673 - precision: 0.0442 - recall: 0.8817 - auc: 0.9758 - val_loss: 0.1265 - val_tp: 98.0000 - val_fp: 1147.0000 - val_tn: 55712.0000 - val_fn: 5.0000 - val_accuracy: 0.9798 - val_precision: 0.0787 - val_recall: 0.9515 - val_auc: 0.9841\n",
            "Epoch 9/20\n",
            "112/112 [==============================] - 1s 7ms/step - loss: 0.2054 - tp: 337.0000 - fp: 7378.0000 - tn: 220078.0000 - fn: 52.0000 - accuracy: 0.9674 - precision: 0.0437 - recall: 0.8663 - auc: 0.9675 - val_loss: 0.1270 - val_tp: 98.0000 - val_fp: 1193.0000 - val_tn: 55666.0000 - val_fn: 5.0000 - val_accuracy: 0.9790 - val_precision: 0.0759 - val_recall: 0.9515 - val_auc: 0.9844\n",
            "Epoch 10/20\n",
            "112/112 [==============================] - 1s 7ms/step - loss: 0.1888 - tp: 340.0000 - fp: 7255.0000 - tn: 220201.0000 - fn: 49.0000 - accuracy: 0.9679 - precision: 0.0448 - recall: 0.8740 - auc: 0.9747 - val_loss: 0.1238 - val_tp: 98.0000 - val_fp: 1192.0000 - val_tn: 55667.0000 - val_fn: 5.0000 - val_accuracy: 0.9790 - val_precision: 0.0760 - val_recall: 0.9515 - val_auc: 0.9846\n",
            "Epoch 11/20\n",
            "112/112 [==============================] - 1s 7ms/step - loss: 0.1966 - tp: 334.0000 - fp: 7255.0000 - tn: 220201.0000 - fn: 55.0000 - accuracy: 0.9679 - precision: 0.0440 - recall: 0.8586 - auc: 0.9730 - val_loss: 0.1204 - val_tp: 98.0000 - val_fp: 1218.0000 - val_tn: 55641.0000 - val_fn: 5.0000 - val_accuracy: 0.9785 - val_precision: 0.0745 - val_recall: 0.9515 - val_auc: 0.9844\n",
            "Epoch 12/20\n",
            "112/112 [==============================] - 1s 7ms/step - loss: 0.1851 - tp: 337.0000 - fp: 7039.0000 - tn: 220417.0000 - fn: 52.0000 - accuracy: 0.9689 - precision: 0.0457 - recall: 0.8663 - auc: 0.9769 - val_loss: 0.1176 - val_tp: 98.0000 - val_fp: 1207.0000 - val_tn: 55652.0000 - val_fn: 5.0000 - val_accuracy: 0.9787 - val_precision: 0.0751 - val_recall: 0.9515 - val_auc: 0.9847\n",
            "Epoch 13/20\n",
            "112/112 [==============================] - 1s 7ms/step - loss: 0.1815 - tp: 336.0000 - fp: 7041.0000 - tn: 220415.0000 - fn: 53.0000 - accuracy: 0.9689 - precision: 0.0455 - recall: 0.8638 - auc: 0.9782 - val_loss: 0.1150 - val_tp: 98.0000 - val_fp: 1210.0000 - val_tn: 55649.0000 - val_fn: 5.0000 - val_accuracy: 0.9787 - val_precision: 0.0749 - val_recall: 0.9515 - val_auc: 0.9849\n",
            "Epoch 14/20\n",
            "112/112 [==============================] - 1s 7ms/step - loss: 0.1732 - tp: 342.0000 - fp: 6595.0000 - tn: 220861.0000 - fn: 47.0000 - accuracy: 0.9708 - precision: 0.0493 - recall: 0.8792 - auc: 0.9789 - val_loss: 0.1111 - val_tp: 98.0000 - val_fp: 1203.0000 - val_tn: 55656.0000 - val_fn: 5.0000 - val_accuracy: 0.9788 - val_precision: 0.0753 - val_recall: 0.9515 - val_auc: 0.9849\n",
            "Epoch 15/20\n",
            "112/112 [==============================] - 1s 7ms/step - loss: 0.1757 - tp: 343.0000 - fp: 7097.0000 - tn: 220359.0000 - fn: 46.0000 - accuracy: 0.9686 - precision: 0.0461 - recall: 0.8817 - auc: 0.9788 - val_loss: 0.1133 - val_tp: 98.0000 - val_fp: 1291.0000 - val_tn: 55568.0000 - val_fn: 5.0000 - val_accuracy: 0.9772 - val_precision: 0.0706 - val_recall: 0.9515 - val_auc: 0.9848\n",
            "Epoch 16/20\n",
            "112/112 [==============================] - 1s 7ms/step - loss: 0.1772 - tp: 339.0000 - fp: 6904.0000 - tn: 220552.0000 - fn: 50.0000 - accuracy: 0.9695 - precision: 0.0468 - recall: 0.8715 - auc: 0.9784 - val_loss: 0.1061 - val_tp: 98.0000 - val_fp: 1133.0000 - val_tn: 55726.0000 - val_fn: 5.0000 - val_accuracy: 0.9800 - val_precision: 0.0796 - val_recall: 0.9515 - val_auc: 0.9852\n",
            "Epoch 17/20\n",
            "112/112 [==============================] - 1s 7ms/step - loss: 0.1633 - tp: 340.0000 - fp: 6382.0000 - tn: 221074.0000 - fn: 49.0000 - accuracy: 0.9718 - precision: 0.0506 - recall: 0.8740 - auc: 0.9837 - val_loss: 0.1030 - val_tp: 98.0000 - val_fp: 1156.0000 - val_tn: 55703.0000 - val_fn: 5.0000 - val_accuracy: 0.9796 - val_precision: 0.0781 - val_recall: 0.9515 - val_auc: 0.9853\n",
            "Epoch 18/20\n",
            "112/112 [==============================] - 1s 7ms/step - loss: 0.1714 - tp: 342.0000 - fp: 6535.0000 - tn: 220921.0000 - fn: 47.0000 - accuracy: 0.9711 - precision: 0.0497 - recall: 0.8792 - auc: 0.9809 - val_loss: 0.1040 - val_tp: 98.0000 - val_fp: 1217.0000 - val_tn: 55642.0000 - val_fn: 5.0000 - val_accuracy: 0.9785 - val_precision: 0.0745 - val_recall: 0.9515 - val_auc: 0.9855\n",
            "Epoch 19/20\n",
            "112/112 [==============================] - 1s 7ms/step - loss: 0.1612 - tp: 343.0000 - fp: 6611.0000 - tn: 220845.0000 - fn: 46.0000 - accuracy: 0.9708 - precision: 0.0493 - recall: 0.8817 - auc: 0.9834 - val_loss: 0.1033 - val_tp: 98.0000 - val_fp: 1222.0000 - val_tn: 55637.0000 - val_fn: 5.0000 - val_accuracy: 0.9785 - val_precision: 0.0742 - val_recall: 0.9515 - val_auc: 0.9856\n",
            "Epoch 20/20\n",
            "112/112 [==============================] - 1s 7ms/step - loss: 0.1558 - tp: 348.0000 - fp: 6852.0000 - tn: 220604.0000 - fn: 41.0000 - accuracy: 0.9697 - precision: 0.0483 - recall: 0.8946 - auc: 0.9840 - val_loss: 0.1004 - val_tp: 99.0000 - val_fp: 1203.0000 - val_tn: 55656.0000 - val_fn: 4.0000 - val_accuracy: 0.9788 - val_precision: 0.0760 - val_recall: 0.9612 - val_auc: 0.9859\n"
          ],
          "name": "stdout"
        }
      ]
    },
    {
      "cell_type": "code",
      "metadata": {
        "id": "U9fZGnbRi6kF",
        "colab_type": "code",
        "colab": {
          "base_uri": "https://localhost:8080/",
          "height": 68
        },
        "outputId": "f73ae6ec-9650-4bbc-d2d9-179da74cb5d6"
      },
      "source": [
        "print('Training Oversampling Model')\n",
        "train_ds = tf.data.Dataset.from_tensor_slices((train_x, train_y))\n",
        "# filter is so slowly\n",
        "# pos_ds = train_ds.filter(lambda x,y: y == 1).shuffle(100000).repeat()\n",
        "# neg_ds = train_ds.filter(lambda x,y: y == 0).shuffle(100000).repeat()\n",
        "\n",
        "pos_indices = train_y == 1\n",
        "pos_x, neg_x = train_x[pos_indices], train_x[~pos_indices]\n",
        "pos_y, neg_y = train_y[pos_indices], train_y[~pos_indices]\n",
        "pos_ds = tf.data.Dataset.from_tensor_slices((pos_x, pos_y)).shuffle(BUFFER_SIZE).repeat()\n",
        "neg_ds = tf.data.Dataset.from_tensor_slices((neg_x, neg_y)).shuffle(BUFFER_SIZE).repeat()\n",
        "resampled_ds = tf.data.experimental.sample_from_datasets([pos_ds, neg_ds], weights=[0.5, 0.5])\n",
        "resampled_ds = resampled_ds.batch(BATCH_SIZE).prefetch(2)\n",
        "resampled_steps_per_epoch = np.ceil(2.0*neg/BATCH_SIZE)\n",
        "\n",
        "test_ds = tf.data.Dataset.from_tensor_slices((test_x, test_y)).cache()\n",
        "test_ds = test_ds.batch(BATCH_SIZE).prefetch(2) \n",
        "\n",
        "model.set_weights(initial_weights)\n",
        "oversampling_history = model.fit(\n",
        "    resampled_ds,\n",
        "    epochs=EPOCHS,\n",
        "    steps_per_epoch=resampled_steps_per_epoch,\n",
        "    validation_data=test_ds,\n",
        "    verbose=1,\n",
        "    callbacks=[early_stopping]\n",
        ")\n",
        "oversampling_preditions = model.predict(test_x, batch_size=BATCH_SIZE)"
      ],
      "execution_count": 0,
      "outputs": [
        {
          "output_type": "stream",
          "text": [
            "Training Oversampling Model\n",
            "Epoch 1/20\n",
            "278/278 [==============================] - ETA: 0s - loss: 0.3727 - tp: 236252.0000 - fp: 48162.0000 - tn: 236837.0000 - fn: 48093.0000 - accuracy: 0.8309 - precision: 0.8307 - recall: 0.8309 - auc: 0.9066"
          ],
          "name": "stdout"
        }
      ]
    },
    {
      "cell_type": "code",
      "metadata": {
        "id": "oW0QNVst8P4B",
        "colab_type": "code",
        "colab": {}
      },
      "source": [
        "def plot_metrics(histories, targets, predictions, labels, p=0.5):\n",
        "  \"\"\"打印训练过程和预测结果\"\"\"\n",
        "  # evaluation index\n",
        "  plt.figure(dpi=80)\n",
        "  for i, metric in enumerate(['loss', 'precision', 'recall', 'auc']):\n",
        "    plt.subplot(2,2,i+1)\n",
        "    for n, history in enumerate(histories):\n",
        "      f_plot = plt.semilogy if metric == 'loss' else plt.plot\n",
        "      f_plot(history.epoch,  history.history[metric], color=colors[n], label='Train ' + labels[n])\n",
        "      f_plot(history.epoch,  history.history['val_' + metric], color=colors[n], label='Val '+labels[n], linestyle=\"--\")\n",
        "      plt.xlabel('Epoch')\n",
        "      plt.ylabel(metric.capitalize())\n",
        "      plt.legend()\n",
        "\n",
        "  # roc curve\n",
        "  plt.figure(dpi=70)\n",
        "  for i, (target, prediction) in enumerate(zip(targets, predictions)):\n",
        "    fp, tp, _ = sklearn.metrics.roc_curve(target, prediction)\n",
        "    plt.plot(100*fp, 100*tp, label=labels[i], linewidth=2, color=colors[i])\n",
        "    plt.xlabel('False positives [%]')\n",
        "    plt.ylabel('True positives [%]')\n",
        "    plt.xlim([-0.5,20])\n",
        "    plt.ylim([80,100.5])\n",
        "    plt.legend()\n",
        "    plt.grid(True)\n",
        "    ax = plt.gca()\n",
        "    ax.set_aspect('equal')\n",
        "\n",
        "\n",
        "  # confusion matrix\n",
        "  plt.figure(dpi=100)\n",
        "  figure_size = (2,2)\n",
        "  for i, (target, prediction) in enumerate(zip(targets, predictions)):\n",
        "    plt.subplot(*figure_size, i+1)\n",
        "    cm = confusion_matrix(target, prediction > p)\n",
        "    sns.heatmap(cm, annot=True, fmt='d')\n",
        "    plt.title(labels[i] + ' Confusion Matrix @{:.2f}'.format(p))\n",
        "    plt.ylabel('Actual label')\n",
        "    plt.xlabel('Predicted label')\n",
        "\n",
        "\n",
        "plot_metrics(\n",
        "    histories=[zero_bias_history, care_bias_history, weighted_history, oversampling_history], \n",
        "    targets=[test_y, test_y, test_y, test_y], \n",
        "    predictions=[zero_preditions, care_preditions, weighted_preditions, oversampling_preditions], \n",
        "    labels=['Zero Bias', 'Care Bias', 'Weighted', 'Oversampling']\n",
        ")\n"
      ],
      "execution_count": 0,
      "outputs": []
    },
    {
      "cell_type": "code",
      "metadata": {
        "id": "dhPseJsbprlH",
        "colab_type": "code",
        "colab": {}
      },
      "source": [
        "zero_preditions"
      ],
      "execution_count": 0,
      "outputs": []
    },
    {
      "cell_type": "code",
      "metadata": {
        "id": "1njQmDzL6m5t",
        "colab_type": "code",
        "colab": {}
      },
      "source": [
        "colors"
      ],
      "execution_count": 0,
      "outputs": []
    },
    {
      "cell_type": "code",
      "metadata": {
        "id": "51yj12gXc_Y3",
        "colab_type": "code",
        "colab": {}
      },
      "source": [
        ""
      ],
      "execution_count": 0,
      "outputs": []
    }
  ]
}